{
 "cells": [
  {
   "cell_type": "code",
   "execution_count": 11,
   "metadata": {},
   "outputs": [
    {
     "data": {
      "text/plain": [
       "True"
      ]
     },
     "execution_count": 11,
     "metadata": {},
     "output_type": "execute_result"
    }
   ],
   "source": [
    "from dotenv import load_dotenv\n",
    "\n",
    "load_dotenv('.env', override=True)"
   ]
  },
  {
   "cell_type": "code",
   "execution_count": 13,
   "metadata": {},
   "outputs": [
    {
     "name": "stdout",
     "output_type": "stream",
     "text": [
      "{\n",
      "  \"id\": \"chatcmpl-7jcCAumLCZhtHIaEjD37S4Dhxj43F\",\n",
      "  \"object\": \"chat.completion\",\n",
      "  \"created\": 1691105938,\n",
      "  \"model\": \"gpt-35-turbo\",\n",
      "  \"choices\": [\n",
      "    {\n",
      "      \"index\": 0,\n",
      "      \"finish_reason\": \"stop\",\n",
      "      \"message\": {\n",
      "        \"role\": \"assistant\",\n",
      "        \"content\": \"Microsoft was founded by Bill Gates and Paul Allen. Bill Gates, who is widely recognized as one of the pioneers of the personal computer revolution, co-founded Microsoft in 1975 with his childhood friend Paul Allen, a computer programmer and entrepreneur. Together, they built Microsoft into one of the world's largest and most influential technology companies.\"\n",
      "      }\n",
      "    }\n",
      "  ],\n",
      "  \"usage\": {\n",
      "    \"completion_tokens\": 66,\n",
      "    \"prompt_tokens\": 29,\n",
      "    \"total_tokens\": 95\n",
      "  }\n",
      "}\n",
      "Microsoft was founded by Bill Gates and Paul Allen. Bill Gates, who is widely recognized as one of the pioneers of the personal computer revolution, co-founded Microsoft in 1975 with his childhood friend Paul Allen, a computer programmer and entrepreneur. Together, they built Microsoft into one of the world's largest and most influential technology companies.\n"
     ]
    }
   ],
   "source": [
    "import os\n",
    "import openai\n",
    "\n",
    "response = openai.ChatCompletion.create(\n",
    "    engine=\"gtp-35-phurbo\", # The deployment name you chose when you deployed the GPT-35-Turbo or GPT-4 model.\n",
    "    messages=[\n",
    "        {\"role\": \"system\", \"content\": \"Assistant is a large language model trained by OpenAI.\"},\n",
    "        {\"role\": \"user\", \"content\": \"Who were the founders of Microsoft?\"}\n",
    "    ]\n",
    ")\n",
    "\n",
    "print(response)\n",
    "\n",
    "print(response['choices'][0]['message']['content'])"
   ]
  }
 ],
 "metadata": {
  "kernelspec": {
   "display_name": "Python 3",
   "language": "python",
   "name": "python3"
  },
  "language_info": {
   "codemirror_mode": {
    "name": "ipython",
    "version": 3
   },
   "file_extension": ".py",
   "mimetype": "text/x-python",
   "name": "python",
   "nbconvert_exporter": "python",
   "pygments_lexer": "ipython3",
   "version": "3.9.2"
  },
  "orig_nbformat": 4
 },
 "nbformat": 4,
 "nbformat_minor": 2
}
